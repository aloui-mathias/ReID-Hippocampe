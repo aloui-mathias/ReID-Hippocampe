{
 "cells": [
  {
   "cell_type": "code",
   "execution_count": 18,
   "metadata": {},
   "outputs": [],
   "source": [
    "import shutil\n",
    "from numpy.random import random"
   ]
  },
  {
   "cell_type": "code",
   "execution_count": 15,
   "metadata": {},
   "outputs": [],
   "source": [
    "def src2dest(srcname : str, newdir: str):\n",
    "    parts = srcname.split('/')\n",
    "    parts = parts[:-3] + [newdir] + [parts[-1]]\n",
    "    return '/'.join(parts)\n",
    "\n",
    "def jpg2txt(srcname : str):\n",
    "    parts = srcname.split('/')\n",
    "    parts[-1] = '.'.join(parts[-1].split('.')[:-1] + [\"txt\"])\n",
    "    return '/'.join(parts)"
   ]
  },
  {
   "cell_type": "code",
   "execution_count": 19,
   "metadata": {},
   "outputs": [],
   "source": [
    "with open(\"train.txt\", \"r\") as trainfile:\n",
    "    for filename in trainfile.read().splitlines():\n",
    "        if '/DSC_' in filename:\n",
    "            continue\n",
    "        if '/IMG_' in filename:\n",
    "            continue\n",
    "        if '/PLT_' in filename:\n",
    "            continue\n",
    "        if random() > 0.1:\n",
    "            continue\n",
    "        shutil.copyfile(filename, src2dest(filename, 'train'))\n",
    "        filename = jpg2txt(filename)\n",
    "        shutil.copyfile(filename, src2dest(filename, 'train'))"
   ]
  },
  {
   "cell_type": "code",
   "execution_count": 20,
   "metadata": {},
   "outputs": [],
   "source": [
    "with open(\"test.txt\", \"r\") as testfile:\n",
    "    for filename in testfile.read().splitlines():\n",
    "        if '/DSC_' in filename:\n",
    "            continue\n",
    "        if '/IMG_' in filename:\n",
    "            continue\n",
    "        if '/PLT_' in filename:\n",
    "            continue\n",
    "        if random() > 0.1:\n",
    "            continue\n",
    "        shutil.copyfile(filename, src2dest(filename, 'test'))\n",
    "        filename = jpg2txt(filename)\n",
    "        shutil.copyfile(filename, src2dest(filename, 'test'))"
   ]
  }
 ],
 "metadata": {
  "interpreter": {
   "hash": "f7ea0831b38e65c8b656e248f826c09ea780a6a216f2e38d93f8acc08c0a9e8e"
  },
  "kernelspec": {
   "display_name": "Python 3.8.12 ('PyTorch-Yolov5')",
   "language": "python",
   "name": "python3"
  },
  "language_info": {
   "codemirror_mode": {
    "name": "ipython",
    "version": 3
   },
   "file_extension": ".py",
   "mimetype": "text/x-python",
   "name": "python",
   "nbconvert_exporter": "python",
   "pygments_lexer": "ipython3",
   "version": "3.8.12"
  },
  "orig_nbformat": 4
 },
 "nbformat": 4,
 "nbformat_minor": 2
}
