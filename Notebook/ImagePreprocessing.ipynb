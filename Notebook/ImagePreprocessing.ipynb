{
 "cells": [
  {
   "cell_type": "markdown",
   "metadata": {},
   "source": [
    "# Image preprocessing"
   ]
  },
  {
   "cell_type": "code",
   "execution_count": null,
   "metadata": {},
   "outputs": [],
   "source": [
    "%matplotlib inline\n",
    "%load_ext autoreload\n",
    "%autoreload 2"
   ]
  },
  {
   "cell_type": "code",
   "execution_count": null,
   "metadata": {},
   "outputs": [],
   "source": [
    "# False for testing\n",
    "ALL_DATASET = True\n",
    "EXEC_ALL = True"
   ]
  },
  {
   "cell_type": "code",
   "execution_count": null,
   "metadata": {},
   "outputs": [],
   "source": [
    "# True to remake all images\n",
    "REMAKE = False"
   ]
  },
  {
   "cell_type": "code",
   "execution_count": null,
   "metadata": {},
   "outputs": [],
   "source": [
    "from config import *\n",
    "import imageio\n",
    "import imgaug as ia\n",
    "from imgaug import augmenters as iaa \n",
    "from imgaug.augmentables.bbs import BoundingBox, BoundingBoxesOnImage\n",
    "import json\n",
    "from matplotlib import pyplot as plt\n",
    "import numpy as np\n",
    "from os import (\n",
    "    environ,\n",
    "    listdir\n",
    ")\n",
    "from os.path import (\n",
    "    isfile,\n",
    "    join\n",
    ")\n",
    "import pandas as pd\n",
    "from PIL import Image\n",
    "from tqdm import tqdm\n",
    "from utils import (\n",
    "    isCsv,\n",
    "    isCustom,\n",
    "    isImage,\n",
    "    isTxt,\n",
    "    orginalname_to_yoloname,\n",
    "    withoutExt\n",
    ")"
   ]
  },
  {
   "cell_type": "code",
   "execution_count": null,
   "metadata": {},
   "outputs": [],
   "source": [
    "assert(EXEC_ALL)"
   ]
  },
  {
   "cell_type": "markdown",
   "metadata": {},
   "source": [
    "## $I/$ Access to Dataset"
   ]
  },
  {
   "cell_type": "code",
   "execution_count": null,
   "metadata": {},
   "outputs": [],
   "source": [
    "individuals = listdir(environ[\"DATASET_PATH\"])\n",
    "if not ALL_DATASET:\n",
    "    individuals = [np.random.choice(individuals)]\n",
    "\n",
    "print(len(individuals), \" individuals\")\n",
    "if not ALL_DATASET:\n",
    "    print(individuals)"
   ]
  },
  {
   "cell_type": "code",
   "execution_count": null,
   "metadata": {},
   "outputs": [],
   "source": [
    "files = []\n",
    "for individual in individuals:\n",
    "    for filename in listdir(join(environ[\"DATASET_PATH\"], individual)):\n",
    "        if (isImage(filename) or isCsv(filename) or isTxt(filename)) and not isCustom(filename):\n",
    "            files += [filename]\n",
    "\n",
    "print(len(files), \" files\")\n",
    "if not ALL_DATASET:\n",
    "    print(files)"
   ]
  },
  {
   "cell_type": "code",
   "execution_count": null,
   "metadata": {},
   "outputs": [],
   "source": [
    "csvs = []\n",
    "pictures = []\n",
    "txts = []\n",
    "\n",
    "for filename in files:\n",
    "    if isCsv(filename):\n",
    "        csvs.append(filename)\n",
    "    elif isImage(filename):\n",
    "        pictures.append(filename)\n",
    "    elif isTxt(filename):\n",
    "        txts.append(filename)\n",
    "\n",
    "if len(csvs) != len(individuals):\n",
    "    print(\"Mismatch between number of individuals and number of csv\")\n",
    "    \n",
    "if len(pictures) != len(txts):\n",
    "    print(\"Mismatch between number of images and number of txt\")\n",
    "\n",
    "print(len(csvs), \" csv\")\n",
    "if not ALL_DATASET:\n",
    "    print(csvs)\n",
    "print(len(pictures), \"pictures\")\n",
    "if not ALL_DATASET:\n",
    "    print(pictures)\n",
    "print(len(txts), \"txt\")\n",
    "if not ALL_DATASET:\n",
    "    print(txts)"
   ]
  },
  {
   "cell_type": "code",
   "execution_count": null,
   "metadata": {},
   "outputs": [],
   "source": [
    "assert(EXEC_ALL)"
   ]
  },
  {
   "cell_type": "markdown",
   "metadata": {},
   "source": [
    "## $II/$ Resize and Padding (Yolov5)"
   ]
  },
  {
   "cell_type": "code",
   "execution_count": null,
   "metadata": {},
   "outputs": [],
   "source": [
    "resize = iaa.Resize({\"longer-side\": (int)(environ[\"CROP_SIZE\"]), \"shorter-side\": \"keep-aspect-ratio\"})\n",
    "padding = iaa.PadToSquare(pad_mode=\"constant\", pad_cval=0, position=\"left-bottom\")\n",
    "\n",
    "dataset_file = open(\"yolo_dataset.txt\", 'a')\n",
    "\n",
    "for csv in tqdm(csvs):\n",
    "\n",
    "    individual = csv.split('_')[0]\n",
    "    if individual not in individuals:\n",
    "        print(\"Individual from csv unknown\")\n",
    "\n",
    "    path = join(environ[\"DATASET_PATH\"], individual)\n",
    "    df = pd.read_csv(join(path, csv))\n",
    "\n",
    "    for picturename in df[\"filename\"].unique():\n",
    "\n",
    "        yolo_picturename = orginalname_to_yoloname(picturename)\n",
    "        \n",
    "        if isfile(join(path, yolo_picturename)) and not REMAKE:\n",
    "            continue\n",
    "\n",
    "        pic = imageio.imread(join(path, picturename))\n",
    "\n",
    "        bbs = []\n",
    "\n",
    "        for idx, data in df.loc[df[\"filename\"]==picturename].iterrows():\n",
    "\n",
    "            shape = json.loads(data[\"region_shape_attributes\"])\n",
    "            x = shape['x']\n",
    "            y = shape['y']\n",
    "            width = shape[\"width\"]\n",
    "            height = shape[\"height\"]\n",
    "\n",
    "            bbs.append(BoundingBox(x, y, x + width, y + height))\n",
    "\n",
    "        bbs = BoundingBoxesOnImage(bbs, shape=pic.shape)\n",
    "\n",
    "        pic, bbs = resize(image=pic, bounding_boxes=bbs)\n",
    "        pic, bbs = padding(image=pic, bounding_boxes=bbs)\n",
    "            \n",
    "        imageio.imsave(join(path, yolo_picturename), pic)\n",
    "\n",
    "        dataset_file.write(join(individual, yolo_picturename)+\"\\n\")\n",
    "            \n",
    "        annotationtxt = open(join(path, withoutExt(yolo_picturename) + \".txt\"), 'w')\n",
    "\n",
    "        for bb in bbs:\n",
    "            coords = \"0 \"\n",
    "            coords += str(((bb.x1 + bb.x2)/2)/pic.shape[1]) + ' '\n",
    "            coords += str(((bb.y1 + bb.y2)/2)/pic.shape[0]) + ' '\n",
    "            coords += str((bb.x2-bb.x1)/pic.shape[1]) + ' '\n",
    "            coords += str((bb.y2-bb.y1)/pic.shape[0]) + \"\\n\"\n",
    "            annotationtxt.write(coords)\n",
    "        \n",
    "        annotationtxt.close()\n",
    "        \n",
    "dataset_file.close()"
   ]
  },
  {
   "cell_type": "code",
   "execution_count": null,
   "metadata": {},
   "outputs": [],
   "source": [
    "assert(EXEC_ALL)"
   ]
  },
  {
   "cell_type": "markdown",
   "metadata": {},
   "source": [
    "## $III/$ Crop (ReID)"
   ]
  },
  {
   "cell_type": "code",
   "execution_count": null,
   "metadata": {},
   "outputs": [],
   "source": [
    "resize = iaa.Resize({\"longer-side\": (int)(environ[\"CROP_SIZE\"]), \"shorter-side\": \"keep-aspect-ratio\"})\n",
    "padding = iaa.PadToSquare(pad_mode=\"constant\", pad_cval=0, position=\"center\")\n",
    "\n",
    "for csv in tqdm(csvs):\n",
    "    \n",
    "    individual = csv.split('_')[0]\n",
    "    if individual not in individuals:\n",
    "        print(\"Individual from csv unknown\")\n",
    "        \n",
    "    path = join(environ[\"DATASET_PATH\"], individual)\n",
    "    df = pd.read_csv(join(path, csv))\n",
    "    \n",
    "    for id, data_crop in df.iterrows():\n",
    "        \n",
    "        crop_path = join(path, data_crop[\"filename\"] + \".crop.jpg\")\n",
    "        resize_path = join(path, data_crop[\"filename\"] + \".crop.resize.jpg\")\n",
    "        \n",
    "        if isfile(resize_path) and isfile(crop_path) and not REMAKE:\n",
    "            continue\n",
    "        \n",
    "        img = Image.open(join(path, data_crop[\"filename\"]))\n",
    "        \n",
    "        shape = json.loads(data_crop[\"region_shape_attributes\"])\n",
    "        \n",
    "        x1 = shape[\"x\"]\n",
    "        y1 = shape[\"y\"]\n",
    "        x2 = x1 + shape[\"width\"]\n",
    "        y2 = y1 + shape[\"height\"]\n",
    "        \n",
    "        img_crop = img.crop((x1,y1,x2,y2))\n",
    "        \n",
    "        img_crop = np.array(img_crop)\n",
    "        \n",
    "        plt.imsave(crop_path, img_crop)\n",
    "        \n",
    "        img_resize = padding(image=resize(image=img_crop))\n",
    "        \n",
    "        plt.imsave(resize_path, img_resize)\n",
    "        \n"
   ]
  },
  {
   "cell_type": "code",
   "execution_count": null,
   "metadata": {},
   "outputs": [],
   "source": [
    "assert(EXEC_ALL)"
   ]
  },
  {
   "cell_type": "markdown",
   "metadata": {},
   "source": [
    "## $IV/$ Data Augmentation"
   ]
  },
  {
   "cell_type": "code",
   "execution_count": null,
   "metadata": {},
   "outputs": [],
   "source": [
    "PATH_TEST_IMAGE = environ[\"DATASET_PATH\"] + \"\\BF001\\BF001_2021 ©P.Louisy 200608 DSC_0716.JPG.crop.resize.jpg\""
   ]
  },
  {
   "cell_type": "code",
   "execution_count": null,
   "metadata": {},
   "outputs": [],
   "source": [
    "nb_img = 9\n",
    "i, j = 1, 1\n",
    "while i*j < nb_img:\n",
    "    if i==j:\n",
    "        j += 1\n",
    "    else:\n",
    "        i +=1"
   ]
  },
  {
   "cell_type": "markdown",
   "metadata": {},
   "source": [
    "### $0.$ Original Image"
   ]
  },
  {
   "cell_type": "code",
   "execution_count": null,
   "metadata": {},
   "outputs": [],
   "source": [
    "pic = imageio.imread(PATH_TEST_IMAGE)\n",
    "resize = iaa.Resize({\"longer-side\": (int)(environ[\"CROP_SIZE\"]), \"shorter-side\": \"keep-aspect-ratio\"})\n",
    "pic = resize(image=pic)\n",
    "plt.figure(num=0, figsize=(10,10))\n",
    "plt.imshow(pic)\n",
    "plt.show()"
   ]
  },
  {
   "cell_type": "markdown",
   "metadata": {},
   "source": [
    "### $1.$ Particules (Salt)"
   ]
  },
  {
   "cell_type": "code",
   "execution_count": null,
   "metadata": {},
   "outputs": [],
   "source": [
    "salt = iaa.Salt((0.001, 0.05))\n",
    "\n",
    "plt.figure(num=1, figsize=(i*10,j*10))\n",
    "plt.subplot(j, i, 1)\n",
    "plt.imshow(pic)\n",
    "plt.title('original')\n",
    "\n",
    "for id in range(2, nb_img+1):\n",
    "    plt.subplot(j, i, id)\n",
    "    plt.imshow(salt(image=pic))\n",
    "    \n",
    "plt.show()"
   ]
  },
  {
   "cell_type": "markdown",
   "metadata": {},
   "source": [
    "### $2.$ Rotations (Rotate)"
   ]
  },
  {
   "cell_type": "code",
   "execution_count": null,
   "metadata": {},
   "outputs": [],
   "source": [
    "rotate_free = iaa.Rotate((-180,180))\n",
    "\n",
    "plt.figure(num=21, figsize=(i*10,j*10))\n",
    "plt.subplot(j, i, 1)\n",
    "plt.imshow(pic)\n",
    "plt.title('original')\n",
    "\n",
    "for id in range(2, nb_img+1):\n",
    "    plt.subplot(j, i, id)\n",
    "    plt.imshow(rotate_free(image=pic))\n",
    "    \n",
    "plt.show()"
   ]
  },
  {
   "cell_type": "markdown",
   "metadata": {},
   "source": [
    "### $3.$ Blur"
   ]
  },
  {
   "cell_type": "code",
   "execution_count": null,
   "metadata": {},
   "outputs": [],
   "source": [
    "blur_a = iaa.AverageBlur(k=(2,3))\n",
    "\n",
    "\n",
    "plt.figure(num=32, figsize=(i*10,j*10))\n",
    "plt.subplot(j, i, 1)\n",
    "plt.imshow(pic)\n",
    "plt.title('original')\n",
    "\n",
    "for id in range(2, nb_img+1):\n",
    "    plt.subplot(j, i, id)\n",
    "    plt.imshow(blur_a(image=pic))\n",
    "    \n",
    "plt.show()"
   ]
  },
  {
   "cell_type": "markdown",
   "metadata": {},
   "source": [
    "### $4.$ Coloration (ChangeColorTemperature)"
   ]
  },
  {
   "cell_type": "code",
   "execution_count": null,
   "metadata": {},
   "outputs": [],
   "source": [
    "import numpy as np\n",
    "\n",
    "class MyParameter(ia.parameters.StochasticParameter):\n",
    "    \n",
    "    def __init__(self, lb, ub, mid):\n",
    "        self.lb = lb\n",
    "        self.ub = ub\n",
    "        self.mid = mid\n",
    "\n",
    "    def _draw_samples(self, size, random_state):\n",
    "        samples = []\n",
    "        if np.random.random() < 0.5:\n",
    "            samples.append(np.random.uniform(self.lb, self.mid))\n",
    "        else:\n",
    "            samples.append(np.random.uniform(self.mid, self.ub))\n",
    "        return samples"
   ]
  },
  {
   "cell_type": "code",
   "execution_count": null,
   "metadata": {},
   "outputs": [],
   "source": [
    "color = iaa.ChangeColorTemperature(MyParameter(4000, 20000, 6600))\n",
    "\n",
    "plt.figure(num=5, figsize=(i*10,j*10))\n",
    "plt.subplot(j, i, 1)\n",
    "plt.imshow(pic)\n",
    "plt.title('original')\n",
    "\n",
    "for id in range(2, nb_img+1):\n",
    "    plt.subplot(j, i, id)\n",
    "    plt.imshow(color(image=pic))\n",
    "    \n",
    "plt.show()"
   ]
  },
  {
   "cell_type": "markdown",
   "metadata": {},
   "source": [
    "### $5.$ Luminosité"
   ]
  },
  {
   "cell_type": "code",
   "execution_count": null,
   "metadata": {},
   "outputs": [],
   "source": [
    "bright = iaa.WithBrightnessChannels(iaa.Add((-30, 30)))\n",
    "\n",
    "plt.figure(num=5, figsize=(i*10,j*10))\n",
    "plt.subplot(j, i, 1)\n",
    "plt.imshow(pic)\n",
    "plt.title('original')\n",
    "\n",
    "for id in range(2, nb_img+1):\n",
    "    plt.subplot(j, i, id)\n",
    "    plt.imshow(bright(image=pic))\n",
    "    \n",
    "plt.show()"
   ]
  }
 ],
 "metadata": {
  "interpreter": {
   "hash": "55b0a7ca1a29f7b86ef30410cea68b15c9d0f6036e7ff569cd7ca7aca8599558"
  },
  "kernelspec": {
   "display_name": "Python 3.8.12 ('ReID-Hippocampe')",
   "language": "python",
   "name": "python3"
  },
  "language_info": {
   "codemirror_mode": {
    "name": "ipython",
    "version": 3
   },
   "file_extension": ".py",
   "mimetype": "text/x-python",
   "name": "python",
   "nbconvert_exporter": "python",
   "pygments_lexer": "ipython3",
   "version": "3.7.11"
  }
 },
 "nbformat": 4,
 "nbformat_minor": 2
}
