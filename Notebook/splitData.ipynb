{
 "cells": [
  {
   "cell_type": "code",
   "execution_count": 1,
   "metadata": {},
   "outputs": [],
   "source": [
    "import json\n",
    "\n",
    "data = json.load(open(\"splitDate.json\", \"r\"))"
   ]
  },
  {
   "cell_type": "code",
   "execution_count": 2,
   "metadata": {},
   "outputs": [
    {
     "name": "stdout",
     "output_type": "stream",
     "text": [
      "{1: 130, 3: 36, 2: 67, 11: 1, 5: 9, 8: 7, 4: 26, 21: 3, 16: 5, 51: 1, 14: 2, 12: 3, 32: 2, 7: 12, 6: 8, 34: 2, 18: 2, 9: 6, 24: 3, 26: 1, 22: 3, 17: 2, 15: 2, 30: 1, 38: 1, 23: 1, 20: 1, 36: 1, 13: 1, 25: 1, 19: 2}\n"
     ]
    }
   ],
   "source": [
    "nb_indiv_per_nb_dates = {}\n",
    "for indiv in data.keys():\n",
    "    nb_date = len(data[indiv].keys())\n",
    "    nb_indiv_per_nb_dates[nb_date] = nb_indiv_per_nb_dates.get(nb_date, 0) + 1\n",
    "print(nb_indiv_per_nb_dates)"
   ]
  },
  {
   "cell_type": "code",
   "execution_count": 3,
   "metadata": {},
   "outputs": [
    {
     "name": "stdout",
     "output_type": "stream",
     "text": [
      "{1: 112, 3: 15, 2: 32, 4: 7}\n",
      "{1: 18, 3: 21, 2: 35, 11: 1, 5: 9, 8: 7, 21: 3, 16: 5, 51: 1, 14: 2, 12: 3, 4: 19, 32: 2, 7: 12, 6: 8, 34: 2, 18: 2, 9: 6, 24: 3, 26: 1, 22: 3, 17: 2, 15: 2, 30: 1, 38: 1, 23: 1, 20: 1, 36: 1, 13: 1, 25: 1, 19: 2}\n"
     ]
    }
   ],
   "source": [
    "train_nb_indiv_per_nb_dates = {}\n",
    "test_nb_indiv_per_nb_dates = {}\n",
    "for indiv in data.keys():\n",
    "    nb_date = len(data[indiv].keys())\n",
    "    nb_pic = 0\n",
    "    for images in data[indiv].values():\n",
    "        nb_pic += len(images)\n",
    "    if nb_pic <= 19:\n",
    "        test_nb_indiv_per_nb_dates[nb_date] = test_nb_indiv_per_nb_dates.get(nb_date, 0) + 1\n",
    "    else:\n",
    "        train_nb_indiv_per_nb_dates[nb_date] = train_nb_indiv_per_nb_dates.get(nb_date, 0) + 1\n",
    "print(test_nb_indiv_per_nb_dates)\n",
    "print(train_nb_indiv_per_nb_dates)"
   ]
  },
  {
   "cell_type": "code",
   "execution_count": 4,
   "metadata": {},
   "outputs": [],
   "source": [
    "nb_pic_per_indiv = {}\n",
    "for indiv in data.keys():\n",
    "    nb_pic = 0\n",
    "    for images in data[indiv].values():\n",
    "        nb_pic += len(images)\n",
    "    nb_pic_per_indiv[indiv] = nb_pic"
   ]
  },
  {
   "cell_type": "code",
   "execution_count": 5,
   "metadata": {},
   "outputs": [
    {
     "name": "stdout",
     "output_type": "stream",
     "text": [
      "166\n",
      "176\n"
     ]
    }
   ],
   "source": [
    "train_indiv = []\n",
    "test_indiv = []\n",
    "for indiv in nb_pic_per_indiv.keys():\n",
    "    if nb_pic_per_indiv[indiv] <= 19:\n",
    "        test_indiv.append(indiv)\n",
    "    else:\n",
    "        train_indiv.append(indiv) \n",
    "print(len(test_indiv))\n",
    "print(len(train_indiv))"
   ]
  },
  {
   "cell_type": "code",
   "execution_count": 6,
   "metadata": {},
   "outputs": [
    {
     "name": "stdout",
     "output_type": "stream",
     "text": [
      "[1, 1, 1, 3, 2, 2, 1, 2, 2, 1, 1, 3, 1, 3, 1, 11, 5, 8, 21, 16, 16, 51, 14, 12, 4, 32, 3, 1, 7, 2, 1, 2, 4, 4, 4, 2, 4, 2, 4, 6, 4, 7, 34, 18, 9, 12, 24, 5, 5, 16, 7, 34, 32, 7, 4, 9, 26, 4, 16, 21, 22, 8, 17, 17, 7, 5, 12, 8, 6, 15, 6, 5, 9, 2, 7, 2, 1, 1, 3, 7, 4, 2, 2, 2, 3, 3, 4, 7, 3, 2, 3, 9, 1, 2, 1, 4, 3, 4, 2, 2, 2, 2, 1, 2, 2, 15, 30, 14, 38, 22, 8, 8, 1, 4, 3, 7, 5, 3, 5, 23, 6, 6, 20, 36, 4, 13, 2, 21, 4, 25, 24, 18, 9, 3, 7, 4, 8, 19, 24, 3, 7, 22, 19, 6, 7, 3, 4, 16, 5, 9, 2, 8, 2, 5, 3, 2, 2, 3, 2, 2, 6, 3, 3, 3, 4, 2, 6, 2, 2, 1, 2, 1, 2, 2, 2, 3]\n"
     ]
    }
   ],
   "source": [
    "train_nb_dates = []\n",
    "for indiv in train_indiv:\n",
    "    train_nb_dates.append(len(data[indiv].keys()))\n",
    "print(train_nb_dates)"
   ]
  },
  {
   "cell_type": "code",
   "execution_count": 11,
   "metadata": {},
   "outputs": [],
   "source": [
    "from sklearn.model_selection import StratifiedKFold\n",
    "\n",
    "folder = StratifiedKFold(10)\n",
    "folds_indices = folder.split(train_indiv, train_nb_dates)"
   ]
  },
  {
   "cell_type": "code",
   "execution_count": 16,
   "metadata": {},
   "outputs": [],
   "source": [
    "outjson = {}\n",
    "for i in range(len(train_indiv)):\n",
    "    outjson[train_indiv[i]] = train_nb_dates[i]\n",
    "json.dump(outjson, open(\"trainIndivNbDates.json\", \"w\"))"
   ]
  },
  {
   "cell_type": "code",
   "execution_count": 3,
   "metadata": {},
   "outputs": [
    {
     "name": "stdout",
     "output_type": "stream",
     "text": [
      "{1: 112, 3: 15, 2: 32, 4: 7}\n"
     ]
    }
   ],
   "source": [
    "import json\n",
    "import os\n",
    "\n",
    "pic_per_dates_per_indiv = json.load(open(\"splitDate.json\", \"r\"))\n",
    "\n",
    "INDIV_PATH = \"D:\\\\CEFE\\\\indiv\\\\224\\\\test\"\n",
    "\n",
    "count = {}\n",
    "for indiv in os.listdir(INDIV_PATH):\n",
    "    nb_dates = len(pic_per_dates_per_indiv[indiv])\n",
    "    count[nb_dates] = count.get(nb_dates, 0) + 1\n",
    "print(count)"
   ]
  }
 ],
 "metadata": {
  "interpreter": {
   "hash": "60cb08bab7f8d651032da2b47f142f257dc86c205c0421d56d69bb703cf06079"
  },
  "kernelspec": {
   "display_name": "Python 3.8.13 ('pipeline')",
   "language": "python",
   "name": "python3"
  },
  "language_info": {
   "codemirror_mode": {
    "name": "ipython",
    "version": 3
   },
   "file_extension": ".py",
   "mimetype": "text/x-python",
   "name": "python",
   "nbconvert_exporter": "python",
   "pygments_lexer": "ipython3",
   "version": "3.8.13"
  },
  "orig_nbformat": 4
 },
 "nbformat": 4,
 "nbformat_minor": 2
}
