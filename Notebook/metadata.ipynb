{
 "cells": [
  {
   "cell_type": "markdown",
   "metadata": {},
   "source": [
    "# Accès aux métadonnées pour classification profil gauche/droit"
   ]
  },
  {
   "cell_type": "code",
   "execution_count": 2,
   "metadata": {},
   "outputs": [],
   "source": [
    "%load_ext autoreload\n",
    "%autoreload 2"
   ]
  },
  {
   "cell_type": "markdown",
   "metadata": {},
   "source": [
    "## Technique qui fonctionne"
   ]
  },
  {
   "cell_type": "code",
   "execution_count": 4,
   "metadata": {},
   "outputs": [
    {
     "name": "stdout",
     "output_type": "stream",
     "text": [
      "['BF002_2021_@P.Louisy_200608_DSC_0734.JPG.crop.resize224.jpg', 'BF002_2021_@P.Louisy_200608_DSC_0735.JPG.crop.resize224.jpg', 'BF002_2021_@P.Louisy_200608_DSC_0736.JPG.crop.resize224.jpg', 'BF002_2021_@P.Louisy_200608_DSC_0749.JPG.crop.resize224.jpg', 'BF002_2021_@P.Louisy_200608_DSC_0750.JPG.crop.resize224.jpg', 'BF002_2021_@P.Louisy_200608_DSC_0751.JPG.crop.resize224.jpg', 'BF002_2021_@P.Louisy_200608_DSC_0752.JPG.crop.resize224.jpg', 'BF002_2021_@P.Louisy_200608_DSC_0782.JPG.crop.resize224.jpg', 'BF002_2021_@P.Louisy_200608_DSC_0823.JPG.crop.resize224.jpg']\n",
      "droite\n",
      "droite\n",
      "gauche\n",
      "gauche\n",
      "gauche\n",
      "gauche\n",
      "gauche\n",
      "droite\n",
      "gauche\n"
     ]
    }
   ],
   "source": [
    "from config import *\n",
    "import os\n",
    "from win32com.client import Dispatch\n",
    "from utils import withoutExt\n",
    "\n",
    "PATH = os.path.join(os.environ[\"INDIV_PATH\"], \"224\", \"train\", \"BF002\")\n",
    "images_name = os.listdir(PATH)\n",
    "print(images_name)\n",
    "\n",
    "def get_details(path, image_name):\n",
    "    shell = Dispatch(\"Shell.Application\")\n",
    "    _dict = {}\n",
    "    ns = shell.NameSpace(path)\n",
    "    for i in ns.Items():\n",
    "        # Check here with the specific filename\n",
    "        if str(i) == withoutExt(image_name):\n",
    "            for j in range(0,49):\n",
    "                _dict[ns.GetDetailsOf(j,j)] = ns.GetDetailsOf(i,j)\n",
    "\n",
    "    return _dict[\"Mots clés\"]\n",
    "\n",
    "for img_name in images_name:\n",
    "    info = get_details(PATH, img_name)\n",
    "    if info:\n",
    "        print(info)\n",
    "    else:\n",
    "        print(\"Empty\")"
   ]
  },
  {
   "cell_type": "markdown",
   "metadata": {},
   "source": [
    "## Technique qui ne fonctionne pas"
   ]
  },
  {
   "cell_type": "code",
   "execution_count": null,
   "metadata": {},
   "outputs": [],
   "source": [
    "# import exif\n",
    "# import piexif\n",
    "# from PIL import Image\n",
    "# from PIL.ExifTags import TAGS\n",
    "\n",
    "# def get_exif1(path):\n",
    "#   i = Image.open(path)\n",
    "#   info = i._getexif()\n",
    "#   return {TAGS.get(tag): value for tag, value in info.items()}\n",
    "\n",
    "# def get_exif2(path):\n",
    "#     with open(path, 'rb') as img_file:\n",
    "#         return exif.Image(img_file).list_all()\n",
    "      \n",
    "# def get_exif3(path):\n",
    "#     exif_dict = piexif.load(path)\n",
    "#     output = {}\n",
    "#     for ifd in exif_dict:\n",
    "#         if exif_dict[ifd]:\n",
    "#             for tag in exif_dict[ifd]:\n",
    "#                 tag_name = piexif.TAGS[ifd][tag][\"name\"]\n",
    "#                 tag_value = exif_dict[ifd][tag]\n",
    "#                 # Avoid print a large value, just to be pretty\n",
    "#                 if isinstance(tag_value, bytes):\n",
    "#                     tag_value = tag_value[:10]\n",
    "#                 output[tag_name] = tag_value\n",
    "#     return output"
   ]
  },
  {
   "cell_type": "markdown",
   "metadata": {},
   "source": [
    "## Création du Datatset"
   ]
  },
  {
   "cell_type": "code",
   "execution_count": 30,
   "metadata": {},
   "outputs": [],
   "source": [
    "from config import *\n",
    "import os\n",
    "from win32com.client import Dispatch\n",
    "from .utils import withoutExt\n",
    "from tqdm import tqdm\n",
    "import shutil"
   ]
  },
  {
   "cell_type": "code",
   "execution_count": null,
   "metadata": {},
   "outputs": [],
   "source": [
    "def getDetails(path, image_name):\n",
    "    shell = Dispatch(\"Shell.Application\")\n",
    "    _dict = {}\n",
    "    ns = shell.NameSpace(path)\n",
    "    for i in ns.Items():\n",
    "        # Check here with the specific filename\n",
    "        if str(i) == withoutExt(image_name):\n",
    "            for j in range(0,49):\n",
    "                _dict[ns.GetDetailsOf(j,j)] = ns.GetDetailsOf(i,j)\n",
    "\n",
    "    return _dict[\"Mots clés\"]"
   ]
  },
  {
   "cell_type": "code",
   "execution_count": 18,
   "metadata": {},
   "outputs": [
    {
     "name": "stdout",
     "output_type": "stream",
     "text": [
      "test\n"
     ]
    },
    {
     "name": "stderr",
     "output_type": "stream",
     "text": [
      "100%|██████████| 342/342 [01:05<00:00,  5.22it/s]\n"
     ]
    },
    {
     "name": "stdout",
     "output_type": "stream",
     "text": [
      "train\n"
     ]
    },
    {
     "name": "stderr",
     "output_type": "stream",
     "text": [
      "100%|██████████| 308/308 [11:01<00:00,  2.15s/it] \n"
     ]
    }
   ],
   "source": [
    "PATH = os.environ[\"INDIV_PATH\"]\n",
    "PATH = os.path.join(PATH, \"224\")\n",
    "\n",
    "left = {}\n",
    "right = {}\n",
    "\n",
    "for set in os.listdir(PATH):\n",
    "    print(set)\n",
    "    for indiv in tqdm(os.listdir(os.path.join(PATH, set))):\n",
    "        for image_name in os.listdir(os.path.join(PATH, set, indiv)):\n",
    "            key = getDetails(os.path.join(PATH, set, indiv), image_name)\n",
    "            if not key:\n",
    "                continue\n",
    "            if key == \"gauche\":\n",
    "                left[indiv] = left.get(indiv, []) + [image_name]\n",
    "            elif key == \"droite\":\n",
    "                right[indiv] = right.get(indiv, []) + [image_name]"
   ]
  },
  {
   "cell_type": "code",
   "execution_count": 19,
   "metadata": {},
   "outputs": [
    {
     "name": "stdout",
     "output_type": "stream",
     "text": [
      "Tous les profils gauches touvés :  True\n",
      "Tous les profils droits touvés :  True\n"
     ]
    }
   ],
   "source": [
    "tt_left = sum([len(images) for images in left.values()])\n",
    "print(\"Tous les profils gauches touvés : \", tt_left==1716)\n",
    "tt_right = sum([len(images) for images in right.values()])\n",
    "print(\"Tous les profils droits touvés : \", tt_right==1906)"
   ]
  },
  {
   "cell_type": "code",
   "execution_count": 36,
   "metadata": {},
   "outputs": [
    {
     "name": "stderr",
     "output_type": "stream",
     "text": [
      "100%|██████████| 4/4 [00:00<00:00, 1004.14it/s]\n",
      "100%|██████████| 7/7 [00:00<00:00, 1749.19it/s]\n",
      "100%|██████████| 5/5 [00:00<00:00, 1665.86it/s]\n",
      "100%|██████████| 19/19 [00:00<00:00, 2111.32it/s]\n",
      "100%|██████████| 5/5 [00:00<00:00, 1249.87it/s]\n",
      "100%|██████████| 18/18 [00:00<00:00, 1499.54it/s]\n",
      "100%|██████████| 12/12 [00:00<00:00, 1714.76it/s]\n",
      "100%|██████████| 34/34 [00:00<00:00, 1699.86it/s]\n",
      "100%|██████████| 17/17 [00:00<00:00, 1540.92it/s]\n",
      "100%|██████████| 22/22 [00:00<00:00, 1466.63it/s]\n",
      "100%|██████████| 5/5 [00:00<00:00, 1667.18it/s]\n",
      "100%|██████████| 20/20 [00:00<00:00, 1666.75it/s]\n",
      "100%|██████████| 13/13 [00:00<00:00, 1625.55it/s]\n",
      "100%|██████████| 27/27 [00:00<00:00, 1928.51it/s]\n",
      "100%|██████████| 8/8 [00:00<00:00, 1999.43it/s]\n",
      "100%|██████████| 4/4 [00:00<00:00, 1999.43it/s]\n",
      "100%|██████████| 1/1 [00:00<00:00, 999.83it/s]\n",
      "100%|██████████| 2/2 [00:00<00:00, 1998.24it/s]\n",
      "100%|██████████| 31/31 [00:00<00:00, 1937.35it/s]\n",
      "100%|██████████| 17/17 [00:00<00:00, 1700.41it/s]\n",
      "100%|██████████| 7/7 [00:00<00:00, 1000.07it/s]\n",
      "100%|██████████| 8/8 [00:00<00:00, 1600.34it/s]\n",
      "100%|██████████| 8/8 [00:00<00:00, 2000.98it/s]\n",
      "100%|██████████| 5/5 [00:00<00:00, 714.14it/s]\n",
      "100%|██████████| 15/15 [00:00<00:00, 714.40it/s]\n",
      "100%|██████████| 5/5 [00:00<00:00, 21.83it/s]\n",
      "100%|██████████| 34/34 [00:00<00:00, 2125.12it/s]\n",
      "100%|██████████| 8/8 [00:00<00:00, 1599.66it/s]\n",
      "100%|██████████| 28/28 [00:00<00:00, 1473.85it/s]\n",
      "100%|██████████| 6/6 [00:00<00:00, 2000.30it/s]\n",
      "100%|██████████| 66/66 [00:00<00:00, 1500.23it/s]\n",
      "100%|██████████| 37/37 [00:00<00:00, 1480.23it/s]\n",
      "100%|██████████| 29/29 [00:00<00:00, 1611.53it/s]\n",
      "100%|██████████| 220/220 [00:00<00:00, 1692.30it/s]\n",
      "100%|██████████| 37/37 [00:00<00:00, 1761.97it/s]\n",
      "100%|██████████| 32/32 [00:00<00:00, 1142.91it/s]\n",
      "100%|██████████| 11/11 [00:00<00:00, 1833.68it/s]\n",
      "100%|██████████| 90/90 [00:00<00:00, 1607.17it/s]\n",
      "100%|██████████| 5/5 [00:00<00:00, 1249.35it/s]\n",
      "100%|██████████| 20/20 [00:00<00:00, 1666.75it/s]\n",
      "100%|██████████| 15/15 [00:00<00:00, 1363.26it/s]\n",
      "100%|██████████| 8/8 [00:00<00:00, 1599.66it/s]\n",
      "100%|██████████| 19/19 [00:00<00:00, 1901.04it/s]\n",
      "100%|██████████| 18/18 [00:00<00:00, 1384.69it/s]\n",
      "100%|██████████| 4/4 [00:00<00:00, 1999.43it/s]\n",
      "100%|██████████| 12/12 [00:00<00:00, 1501.09it/s]\n",
      "100%|██████████| 17/17 [00:00<00:00, 1545.40it/s]\n",
      "100%|██████████| 17/17 [00:00<00:00, 850.04it/s]\n",
      "100%|██████████| 10/10 [00:00<00:00, 1428.58it/s]\n",
      "100%|██████████| 44/44 [00:00<00:00, 1692.40it/s]\n",
      "100%|██████████| 21/21 [00:00<00:00, 1908.77it/s]\n",
      "100%|██████████| 19/19 [00:00<00:00, 1583.76it/s]\n",
      "100%|██████████| 25/25 [00:00<00:00, 1470.86it/s]\n",
      "100%|██████████| 5/5 [00:00<00:00, 999.93it/s]\n",
      "100%|██████████| 1/1 [00:00<00:00, 333.28it/s]\n",
      "100%|██████████| 2/2 [00:00<00:00, 999.95it/s]\n",
      "100%|██████████| 3/3 [00:00<00:00, 999.52it/s]\n",
      "100%|██████████| 2/2 [00:00<00:00, 1000.19it/s]\n",
      "100%|██████████| 3/3 [00:00<00:00, 999.20it/s]\n",
      "100%|██████████| 7/7 [00:00<00:00, 1167.08it/s]\n",
      "100%|██████████| 3/3 [00:00<00:00, 999.83it/s]\n",
      "100%|██████████| 1/1 [00:00<00:00, 1001.74it/s]\n",
      "100%|██████████| 3/3 [00:00<00:00, 1501.18it/s]\n",
      "100%|██████████| 6/6 [00:00<00:00, 1199.92it/s]\n",
      "100%|██████████| 29/29 [00:00<00:00, 1812.74it/s]\n",
      "100%|██████████| 14/14 [00:00<00:00, 1749.97it/s]\n",
      "100%|██████████| 118/118 [00:00<00:00, 1552.67it/s]\n",
      "100%|██████████| 52/52 [00:00<00:00, 1368.43it/s]\n",
      "100%|██████████| 43/43 [00:00<00:00, 1387.06it/s]\n",
      "100%|██████████| 39/39 [00:00<00:00, 1500.00it/s]\n",
      "100%|██████████| 97/97 [00:00<00:00, 1701.86it/s]\n",
      "100%|██████████| 18/18 [00:00<00:00, 1499.93it/s]\n",
      "100%|██████████| 24/24 [00:00<00:00, 1714.29it/s]\n",
      "100%|██████████| 2/2 [00:00<00:00, 1002.94it/s]\n",
      "100%|██████████| 2/2 [00:00<00:00, 998.76it/s]\n",
      "100%|██████████| 3/3 [00:00<00:00, 1499.04it/s]\n",
      "100%|██████████| 7/7 [00:00<00:00, 1750.13it/s]\n",
      "100%|██████████| 4/4 [00:00<00:00, 1333.64it/s]\n",
      "100%|██████████| 1/1 [00:00<00:00, 1001.98it/s]\n",
      "100%|██████████| 1/1 [00:00<00:00, 499.38it/s]\n",
      "100%|██████████| 3/3 [00:00<00:00, 748.85it/s]\n",
      "100%|██████████| 8/8 [00:00<00:00, 1142.78it/s]\n",
      "100%|██████████| 12/12 [00:00<00:00, 1714.06it/s]\n",
      "100%|██████████| 2/2 [00:00<00:00, 2002.05it/s]\n",
      "100%|██████████| 2/2 [00:00<00:00, 999.12it/s]\n",
      "100%|██████████| 6/6 [00:00<00:00, 1499.75it/s]\n",
      "100%|██████████| 5/5 [00:00<00:00, 1249.49it/s]\n",
      "100%|██████████| 1/1 [00:00<00:00, 499.98it/s]\n",
      "100%|██████████| 8/8 [00:00<00:00, 1142.51it/s]\n",
      "100%|██████████| 8/8 [00:00<00:00, 1333.54it/s]\n",
      "100%|██████████| 14/14 [00:00<00:00, 1167.08it/s]\n",
      "100%|██████████| 15/15 [00:00<00:00, 1500.00it/s]\n",
      "100%|██████████| 11/11 [00:00<00:00, 1832.45it/s]\n",
      "100%|██████████| 24/24 [00:00<00:00, 1500.20it/s]\n",
      "100%|██████████| 16/16 [00:00<00:00, 1230.79it/s]\n",
      "100%|██████████| 53/53 [00:00<00:00, 1710.00it/s]\n",
      "100%|██████████| 7/7 [00:00<00:00, 1400.77it/s]\n",
      "100%|██████████| 11/11 [00:00<00:00, 1571.17it/s]\n",
      "100%|██████████| 18/18 [00:00<00:00, 2000.09it/s]\n",
      "100%|██████████| 14/14 [00:00<00:00, 2000.01it/s]\n",
      "100%|██████████| 26/26 [00:00<00:00, 1299.74it/s]\n",
      "100%|██████████| 15/15 [00:00<00:00, 1363.59it/s]\n",
      "100%|██████████| 13/13 [00:00<00:00, 1083.45it/s]\n",
      "100%|██████████| 1/1 [00:00<00:00, 499.32it/s]\n",
      "100%|██████████| 29/29 [00:00<00:00, 1611.21it/s]\n",
      "100%|██████████| 47/47 [00:00<00:00, 1175.03it/s]\n",
      "100%|██████████| 28/28 [00:00<00:00, 250.00it/s]\n",
      "100%|██████████| 5/5 [00:00<00:00, 1666.39it/s]\n",
      "100%|██████████| 16/16 [00:00<00:00, 1600.69it/s]\n",
      "100%|██████████| 4/4 [00:00<00:00, 1000.19it/s]\n",
      "100%|██████████| 9/9 [00:00<00:00, 1500.05it/s]\n",
      "100%|██████████| 3/3 [00:00<00:00, 1500.65it/s]\n",
      "100%|██████████| 1/1 [00:00<00:00, 1000.55it/s]\n",
      "100%|██████████| 7/7 [00:00<00:00, 2333.50it/s]\n",
      "100%|██████████| 11/11 [00:00<00:00, 1833.32it/s]\n",
      "100%|██████████| 19/19 [00:00<00:00, 1266.19it/s]\n",
      "100%|██████████| 53/53 [00:00<00:00, 1472.24it/s]\n",
      "100%|██████████| 22/22 [00:00<00:00, 1467.19it/s]\n",
      "100%|██████████| 25/25 [00:00<00:00, 1470.28it/s]\n",
      "100%|██████████| 7/7 [00:00<00:00, 1000.48it/s]\n",
      "100%|██████████| 94/94 [00:00<00:00, 1678.64it/s]\n",
      "100%|██████████| 38/38 [00:00<00:00, 2111.21it/s]\n",
      "100%|██████████| 30/30 [00:00<00:00, 2142.57it/s]\n",
      "100%|██████████| 193/193 [00:00<00:00, 1949.52it/s]\n",
      "100%|██████████| 46/46 [00:00<00:00, 2705.77it/s]\n",
      "100%|██████████| 30/30 [00:00<00:00, 2142.43it/s]\n",
      "100%|██████████| 11/11 [00:00<00:00, 1571.33it/s]\n",
      "100%|██████████| 124/124 [00:00<00:00, 1823.62it/s]\n",
      "100%|██████████| 7/7 [00:00<00:00, 2332.95it/s]\n",
      "100%|██████████| 9/9 [00:00<00:00, 2250.43it/s]\n",
      "100%|██████████| 21/21 [00:00<00:00, 2624.88it/s]\n",
      "100%|██████████| 14/14 [00:00<00:00, 1999.46it/s]\n",
      "100%|██████████| 19/19 [00:00<00:00, 1583.39it/s]\n",
      "100%|██████████| 12/12 [00:00<00:00, 1333.36it/s]\n",
      "100%|██████████| 21/21 [00:00<00:00, 1499.98it/s]\n",
      "100%|██████████| 12/12 [00:00<00:00, 1333.39it/s]\n",
      "100%|██████████| 11/11 [00:00<00:00, 1571.92it/s]\n",
      "100%|██████████| 33/33 [00:00<00:00, 1435.09it/s]\n",
      "100%|██████████| 41/41 [00:00<00:00, 1863.55it/s]\n",
      "100%|██████████| 11/11 [00:00<00:00, 1833.54it/s]\n",
      "100%|██████████| 24/24 [00:00<00:00, 1845.95it/s]\n",
      "100%|██████████| 8/8 [00:00<00:00, 1601.49it/s]\n",
      "100%|██████████| 18/18 [00:00<00:00, 1636.41it/s]\n",
      "100%|██████████| 1/1 [00:00<00:00, 499.62it/s]\n",
      "100%|██████████| 4/4 [00:00<00:00, 1000.01it/s]\n",
      "100%|██████████| 4/4 [00:00<00:00, 1333.43it/s]\n",
      "100%|██████████| 3/3 [00:00<00:00, 999.83it/s]\n",
      "100%|██████████| 4/4 [00:00<00:00, 1001.62it/s]\n",
      "100%|██████████| 2/2 [00:00<00:00, 668.04it/s]\n",
      "100%|██████████| 1/1 [00:00<00:00, 500.45it/s]\n",
      "100%|██████████| 32/32 [00:00<00:00, 1600.00it/s]\n",
      "100%|██████████| 26/26 [00:00<00:00, 1181.87it/s]\n",
      "100%|██████████| 28/28 [00:00<00:00, 1400.07it/s]\n",
      "100%|██████████| 101/101 [00:00<00:00, 1655.83it/s]\n",
      "100%|██████████| 90/90 [00:00<00:00, 1956.63it/s]\n",
      "100%|██████████| 32/32 [00:00<00:00, 2285.69it/s]\n",
      "100%|██████████| 68/68 [00:00<00:00, 1618.98it/s]\n",
      "100%|██████████| 80/80 [00:00<00:00, 1951.30it/s]\n",
      "100%|██████████| 19/19 [00:00<00:00, 1899.37it/s]\n",
      "100%|██████████| 15/15 [00:00<00:00, 1666.66it/s]\n",
      "100%|██████████| 3/3 [00:00<00:00, 999.91it/s]\n",
      "100%|██████████| 5/5 [00:00<00:00, 1663.48it/s]\n",
      "100%|██████████| 2/2 [00:00<00:00, 1999.67it/s]\n",
      "100%|██████████| 2/2 [00:00<00:00, 667.09it/s]\n",
      "100%|██████████| 2/2 [00:00<00:00, 666.40it/s]\n",
      "100%|██████████| 6/6 [00:00<00:00, 1199.74it/s]\n",
      "100%|██████████| 1/1 [00:00<00:00, 999.60it/s]\n",
      "100%|██████████| 4/4 [00:00<00:00, 1332.90it/s]\n",
      "100%|██████████| 5/5 [00:00<00:00, 1000.07it/s]\n",
      "100%|██████████| 1/1 [00:00<00:00, 499.32it/s]\n",
      "100%|██████████| 3/3 [00:00<00:00, 1500.29it/s]\n",
      "100%|██████████| 1/1 [00:00<00:00, 999.36it/s]\n",
      "100%|██████████| 3/3 [00:00<00:00, 1500.11it/s]\n",
      "100%|██████████| 7/7 [00:00<00:00, 1166.57it/s]\n"
     ]
    }
   ],
   "source": [
    "IN_PATH = os.environ[\"DATASET_PATH\"]\n",
    "OUT_PATH = os.environ[\"PROFIL_PATH\"]\n",
    "\n",
    "if not os.path.isdir(OUT_PATH):\n",
    "    os.mkdir(OUT_PATH)\n",
    "    \n",
    "if not os.path.isdir(os.path.join(OUT_PATH, \"left\")):\n",
    "    os.mkdir(os.path.join(OUT_PATH, \"left\"))\n",
    "    \n",
    "if not os.path.isdir(os.path.join(OUT_PATH, \"right\")):\n",
    "    os.mkdir(os.path.join(OUT_PATH, \"right\"))\n",
    "    \n",
    "parts = {\"left\": left, \"right\": right}\n",
    "    \n",
    "for part_name, part in parts.items():\n",
    "    for indiv in part.keys():\n",
    "        for image_name in tqdm(part[indiv]):\n",
    "            if not os.path.isfile(os.path.join(OUT_PATH, part_name, indiv, image_name)):\n",
    "                in_file = os.path.join(IN_PATH, indiv, image_name)\n",
    "                out_file = os.path.join(OUT_PATH, part_name, image_name)\n",
    "                shutil.copyfile(in_file, out_file)"
   ]
  }
 ],
 "metadata": {
  "interpreter": {
   "hash": "71faa12ff80aed350435f17cdc16f1448bfbd0e0281a9522aa07f57b80ec09c9"
  },
  "kernelspec": {
   "display_name": "Python 3.7.11 ('imgaug')",
   "language": "python",
   "name": "python3"
  },
  "language_info": {
   "codemirror_mode": {
    "name": "ipython",
    "version": 3
   },
   "file_extension": ".py",
   "mimetype": "text/x-python",
   "name": "python",
   "nbconvert_exporter": "python",
   "pygments_lexer": "ipython3",
   "version": "3.7.11"
  },
  "orig_nbformat": 4
 },
 "nbformat": 4,
 "nbformat_minor": 2
}
